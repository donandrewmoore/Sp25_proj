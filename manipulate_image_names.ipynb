{
 "cells": [
  {
   "cell_type": "code",
   "execution_count": 1,
   "metadata": {},
   "outputs": [],
   "source": [
    "import os\n",
    "import pandas as pd\n",
    "import numpy as np"
   ]
  },
  {
   "cell_type": "code",
   "execution_count": 6,
   "metadata": {},
   "outputs": [],
   "source": [
    "# access human_data_dict.csv\n",
    "human_data_dict = pd.read_csv('./human_data_copy/human_data_dict.csv')\n",
    "# filter for assignment == 'test'\n",
    "human_data_dict_copy = human_data_dict[human_data_dict['assignment'] == 'test']\n",
    "# 'image' column contains a list of image names\n",
    "# extract the image names strings, and delete .jpg\n",
    "image_names = human_data_dict_copy['image'].str.split('.').str[0]"
   ]
  },
  {
   "cell_type": "code",
   "execution_count": 7,
   "metadata": {},
   "outputs": [],
   "source": [
    "# the rest is a five-digit string that might start with 0\n",
    "# convert to int\n",
    "image_names = image_names.str.split('_').str[0]\n",
    "# convert to int\n",
    "image_names = image_names.astype(int)"
   ]
  },
  {
   "cell_type": "code",
   "execution_count": 9,
   "metadata": {},
   "outputs": [
    {
     "name": "stderr",
     "output_type": "stream",
     "text": [
      "/var/folders/4v/71lpmr6j5lb0c5b3g9nf87_w0000gn/T/ipykernel_34944/2689740262.py:2: SettingWithCopyWarning: \n",
      "A value is trying to be set on a copy of a slice from a DataFrame.\n",
      "Try using .loc[row_indexer,col_indexer] = value instead\n",
      "\n",
      "See the caveats in the documentation: https://pandas.pydata.org/pandas-docs/stable/user_guide/indexing.html#returning-a-view-versus-a-copy\n",
      "  human_data_dict_copy['image_name_new'] = image_names\n"
     ]
    }
   ],
   "source": [
    "# append this to the human_data_dict_copy dataframe\n",
    "human_data_dict_copy['image_name_new'] = image_names\n",
    "# sort by image_name_new\n",
    "human_data_dict_copy = human_data_dict_copy.sort_values(by='image_name_new')\n",
    "# reset index\n",
    "human_data_dict_copy = human_data_dict_copy.reset_index(drop=True)\n",
    "# add a new column 'image_name_new_2' that is the index + 1\n",
    "human_data_dict_copy['image_name_new_2'] = human_data_dict_copy.index + 1\n",
    "# convert to string\n",
    "human_data_dict_copy['image_name_new_2'] = human_data_dict_copy['image_name_new_2'].astype(str)"
   ]
  },
  {
   "cell_type": "code",
   "execution_count": 13,
   "metadata": {},
   "outputs": [],
   "source": [
    "# use image and image_name_new_2 to rename the files in ./human_data_copy/test_images\n",
    "\n",
    "for index, row in human_data_dict_copy.iterrows():\n",
    "    # get the old and new file names\n",
    "    old_file_name = row['image']\n",
    "    new_file_name = row['image_name_new_2'] + '.jpg'\n",
    "    # rename the file\n",
    "    os.rename(os.path.join('./human_data_copy/test_images/stanford_cars/', old_file_name),\n",
    "              os.path.join('./human_data_copy/test_images/stanford_cars/', new_file_name))"
   ]
  },
  {
   "cell_type": "code",
   "execution_count": 15,
   "metadata": {},
   "outputs": [],
   "source": [
    "# convert the image_name_new_2 column to string + add .jpg\n",
    "human_data_dict_copy['image_name_new_2'] = human_data_dict_copy['image_name_new_2'] + '.jpg'\n",
    "# delete the image column, the image_name_new column, and rename image_name_new_2 to image\n",
    "human_data_dict_copy = human_data_dict_copy.drop(columns=['image', 'image_name_new'])\n",
    "# rename image_name_new_2 to image\n",
    "human_data_dict_copy = human_data_dict_copy.rename(columns={'image_name_new_2': 'image'})"
   ]
  },
  {
   "cell_type": "code",
   "execution_count": 17,
   "metadata": {},
   "outputs": [],
   "source": [
    "# drop 'test' from the assignment column\n",
    "human_data_dict = human_data_dict[human_data_dict['assignment'] != 'test']\n",
    "# add the new rows to the dataframe\n",
    "human_data_dict = pd.concat([human_data_dict, human_data_dict_copy], ignore_index=True)\n",
    "# reset index\n",
    "human_data_dict = human_data_dict.reset_index(drop=True)\n",
    "# save the dataframe to a new csv file\n",
    "human_data_dict.to_csv('./human_data_copy/human_data_dict.csv', index=False)"
   ]
  }
 ],
 "metadata": {
  "kernelspec": {
   "display_name": "base",
   "language": "python",
   "name": "python3"
  },
  "language_info": {
   "codemirror_mode": {
    "name": "ipython",
    "version": 3
   },
   "file_extension": ".py",
   "mimetype": "text/x-python",
   "name": "python",
   "nbconvert_exporter": "python",
   "pygments_lexer": "ipython3",
   "version": "3.10.11"
  }
 },
 "nbformat": 4,
 "nbformat_minor": 2
}
